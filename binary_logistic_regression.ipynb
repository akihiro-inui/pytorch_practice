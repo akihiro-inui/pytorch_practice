{
  "nbformat": 4,
  "nbformat_minor": 0,
  "metadata": {
    "colab": {
      "name": "binary_logistic_regression.ipynb",
      "version": "0.3.2",
      "provenance": [],
      "collapsed_sections": [],
      "include_colab_link": true
    },
    "kernelspec": {
      "name": "python3",
      "display_name": "Python 3"
    },
    "accelerator": "GPU"
  },
  "cells": [
    {
      "cell_type": "markdown",
      "metadata": {
        "id": "view-in-github",
        "colab_type": "text"
      },
      "source": [
        "<a href=\"https://colab.research.google.com/github/inuinana/pytorch_practice/blob/master/binary_logistic_regression.ipynb\" target=\"_parent\"><img src=\"https://colab.research.google.com/assets/colab-badge.svg\" alt=\"Open In Colab\"/></a>"
      ]
    },
    {
      "cell_type": "code",
      "metadata": {
        "id": "DD1gT8FiP9Wh",
        "colab_type": "code",
        "colab": {
          "base_uri": "https://localhost:8080/",
          "height": 337
        },
        "outputId": "739c59d3-0d3a-469f-d8ad-380e1cb81138"
      },
      "source": [
        "# Akihiro Inui 2019 June\n",
        "import torch\n",
        "from torch.autograd import Variable\n",
        "from matplotlib import pyplot as plt\n",
        "\n",
        "# Define data\n",
        "x_data = Variable(torch.Tensor([[1.0], [2.0], [3.0], [4.0]]))\n",
        "y_data = Variable(torch.Tensor([[0.], [0.], [1.], [1.]]))\n",
        "\n",
        "\n",
        "class BinaryLogisticRegression(torch.nn.Module):\n",
        "\n",
        "    def __init__(self):\n",
        "        \"\"\"\n",
        "        In the constructor we instantiate nn.Linear module\n",
        "        \"\"\"\n",
        "        super(BinaryLogisticRegression, self).__init__()\n",
        "        self.linear = torch.nn.Linear(1, 1)  # (input_size, output_size)\n",
        "        self.loss_function = torch.nn.BCELoss(size_average=True) #Binary cross entropy\n",
        "        self.optimizer = torch.optim.SGD(self.parameters(), lr=0.01)\n",
        "\n",
        "        \n",
        "    def forward(self, x):\n",
        "        \"\"\"\n",
        "        In the forward function we accept a Variable of input data and we must return\n",
        "        a Variable of output data.\n",
        "        \"\"\"\n",
        "        y_pred = torch.sigmoid(self.linear(x))\n",
        "        return y_pred\n",
        "\n",
        "      \n",
        "    def train(self, visualize=None):\n",
        "        \"\"\"\n",
        "        Training\n",
        "        \"\"\"\n",
        "\n",
        "        # To store loss\n",
        "        loss_history = []\n",
        "        # Training loop\n",
        "        for epoch in range(100000):\n",
        "            # Forward pass: Compute predicted y by passing x to the model\n",
        "            y_pred = model(x_data)\n",
        "\n",
        "            # Compute and print loss\n",
        "            loss = self.loss_function(y_pred, y_data)\n",
        "            loss_history.append(loss)\n",
        "            #print(epoch, loss.data)\n",
        "\n",
        "            # Zero gradients, perform a backward pass, and update the weights.\n",
        "            self.optimizer.zero_grad()\n",
        "            loss.backward()\n",
        "            self.optimizer.step()\n",
        "            \n",
        "        # Plot loss history\n",
        "        if visualize==True:\n",
        "          plt.plot(loss_history)\n",
        "          plt.show()\n",
        "      \n",
        "# main\n",
        "if __name__ == \"__main__\":\n",
        "    # our model\n",
        "    model = BinaryLogisticRegression()\n",
        "    \n",
        "    # Train model\n",
        "    model.train(visualize=True)\n",
        "    \n",
        "    # Make predictions    \n",
        "    # Binary classification return predicted value is bigger than 0.5 or not\n",
        "    hour_var = Variable(torch.Tensor([[1.0]]))\n",
        "    print(\"predict y when x = {}: y = {} \".format(1.0, model(hour_var).data[0][0]>0.5))\n",
        "    hour_var = Variable(torch.Tensor([[7.0]]))\n",
        "    print(\"predict y when x = {}: y = {} \".format(7.0, model(hour_var).data[0][0]>0.5))"
      ],
      "execution_count": 25,
      "outputs": [
        {
          "output_type": "stream",
          "text": [
            "/usr/local/lib/python3.6/dist-packages/torch/nn/_reduction.py:46: UserWarning: size_average and reduce args will be deprecated, please use reduction='mean' instead.\n",
            "  warnings.warn(warning.format(ret))\n"
          ],
          "name": "stderr"
        },
        {
          "output_type": "display_data",
          "data": {
            "image/png": "[encoded data removed]",
            "text/plain": [
              "<Figure size 432x288 with 1 Axes>"
            ]
          },
          "metadata": {
            "tags": []
          }
        },
        {
          "output_type": "stream",
          "text": [
            "predict y when x = 1.0: y = 0 \n",
            "predict y when x = 7.0: y = 1 \n"
          ],
          "name": "stdout"
        }
      ]
    }
  ]
}