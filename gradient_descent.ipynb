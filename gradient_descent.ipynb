{
  "nbformat": 4,
  "nbformat_minor": 0,
  "metadata": {
    "colab": {
      "name": "gradient_descent.ipynb",
      "version": "0.3.2",
      "provenance": [],
      "include_colab_link": true
    },
    "kernelspec": {
      "name": "python3",
      "display_name": "Python 3"
    }
  },
  "cells": [
    {
      "cell_type": "markdown",
      "metadata": {
        "id": "view-in-github",
        "colab_type": "text"
      },
      "source": [
        "<a href=\"https://colab.research.google.com/github/inuinana/pytorch_practice/blob/master/gradient_descent.ipynb\" target=\"_parent\"><img src=\"https://colab.research.google.com/assets/colab-badge.svg\" alt=\"Open In Colab\"/></a>"
      ]
    },
    {
      "cell_type": "code",
      "metadata": {
        "id": "_NZ4qbF1qAdL",
        "colab_type": "code",
        "colab": {
          "base_uri": "https://localhost:8080/",
          "height": 555
        },
        "outputId": "03c58e40-4579-4baa-8ad8-f268a0599c23"
      },
      "source": [
        "#  Gradient Descent\n",
        "# 10/06/2019 Akihiro Inui\n",
        "\n",
        "import torch\n",
        "import matplotlib.pyplot as plt\n",
        "from torch.autograd import Variable\n",
        "\n",
        "\n",
        "# Dummy data\n",
        "x_data = [1.0, 2.0, 3.0]\n",
        "y_data = [2.0, 4.0, 6.0]\n",
        "\n",
        "# Random value for weight\n",
        "w = Variable(torch.Tensor([1.0]),  requires_grad=True)  \n",
        "\n",
        "# our model forward pass\n",
        "def forward(x):\n",
        "    return x * w\n",
        "\n",
        "# Loss function\n",
        "def calc_loss(x, y):\n",
        "   # Make prediction\n",
        "    y_pred = forward(x)\n",
        "    # Return error  \n",
        "    # (y_pred - y)^2 = (x*w - y)^2\n",
        "    return (y_pred - y) * (y_pred - y)\n",
        "\n",
        "# Gradient\n",
        "def gradient(x, y):\n",
        "    # d_loss/d_w\n",
        "    return 2*x*(x*w-y)\n",
        "\n",
        "# predict y when x=4 before training\n",
        "print(\"predict (before training)\",  4, forward(4).data[0])\n",
        "\n",
        "# Training loop\n",
        "loss_history = []\n",
        "weight_history = []\n",
        "for epoch in range(30):\n",
        "    for x_eval, y_eval in zip(x_data, y_data):\n",
        "      \n",
        "        # Calculate gradient\n",
        "        grad = gradient(x_eval, y_eval)\n",
        "        \n",
        "        # Update weight 0.01is learning rate\n",
        "        w = w - 0.01*grad\n",
        "        weight_history.append(w)\n",
        "        \n",
        "        # Calculate loss\n",
        "        loss = calc_loss(x_val, y_val)\n",
        "        loss_history.append(loss)\n",
        "\n",
        "# Predict y when x=4 after training\n",
        "print(\"predict (after training)\",  4, forward(4).data[0])\n",
        "\n",
        "# Show loss history\n",
        "plt.plot(loss_history, label=\"loss\")\n",
        "plt.legend() \n",
        "plt.show()\n",
        "\n",
        "# Show weight history\n",
        "plt.plot(weight_history, label=\"weight\")\n",
        "plt.legend() \n",
        "plt.show()"
      ],
      "execution_count": 31,
      "outputs": [
        {
          "output_type": "stream",
          "text": [
            "predict (before training) 4 tensor(4.)\n",
            "predict (after training) 4 tensor(7.9995)\n"
          ],
          "name": "stdout"
        },
        {
          "output_type": "display_data",
          "data": {
            "image/png": "[encoded data removed]",
            "text/plain": [
              "<Figure size 432x288 with 1 Axes>"
            ]
          },
          "metadata": {
            "tags": []
          }
        },
        {
          "output_type": "display_data",
          "data": {
            "image/png": "[encoded data removed]",
            "text/plain": [
              "<Figure size 432x288 with 1 Axes>"
            ]
          },
          "metadata": {
            "tags": []
          }
        }
      ]
    },
    {
      "cell_type": "code",
      "metadata": {
        "id": "tQ3sbbhbqCiF",
        "colab_type": "code",
        "colab": {}
      },
      "source": [
        ""
      ],
      "execution_count": 0,
      "outputs": []
    }
  ]
}