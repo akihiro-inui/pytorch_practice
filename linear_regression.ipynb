{
  "nbformat": 4,
  "nbformat_minor": 0,
  "metadata": {
    "colab": {
      "name": "linear_regression.ipynb",
      "version": "0.3.2",
      "provenance": [],
      "collapsed_sections": [],
      "include_colab_link": true
    },
    "kernelspec": {
      "name": "python3",
      "display_name": "Python 3"
    }
  },
  "cells": [
    {
      "cell_type": "markdown",
      "metadata": {
        "id": "view-in-github",
        "colab_type": "text"
      },
      "source": [
        "<a href=\"https://colab.research.google.com/github/inuinana/pytorch_practice/blob/master/linear_regression.ipynb\" target=\"_parent\"><img src=\"https://colab.research.google.com/assets/colab-badge.svg\" alt=\"Open In Colab\"/></a>"
      ]
    },
    {
      "cell_type": "code",
      "metadata": {
        "id": "4GIu7EMrFQdQ",
        "colab_type": "code",
        "colab": {
          "base_uri": "https://localhost:8080/",
          "height": 320
        },
        "outputId": "8c1789f1-e43b-4d69-bf34-7e50e777409d"
      },
      "source": [
        "# Akihiro Inui 2019 June\n",
        "\n",
        "# Import librarries\n",
        "import torch\n",
        "from torch.autograd import Variable\n",
        "from matplotlib import pyplot as plt\n",
        "\n",
        "# Define data\n",
        "x_data = Variable(torch.Tensor([[1.0], [2.0], [3.0]]))\n",
        "y_data = Variable(torch.Tensor([[2.0], [4.0], [6.0]]))\n",
        "\n",
        "class LinearRegression(torch.nn.Module):\n",
        "\n",
        "    def __init__(self):\n",
        "        \"\"\"\n",
        "        In the constructor we instantiate two nn.Linear module\n",
        "        \"\"\"\n",
        "        # Init\n",
        "        super(LinearRegression, self).__init__()\n",
        "        # Linear regression\n",
        "        self.linear = torch.nn.Linear(1, 1)  # (input_size, output_size)\n",
        "        self.loss_function = torch.nn.MSELoss(size_average=False)\n",
        "        self.optimizer = torch.optim.SGD(self.parameters(), lr=0.01)\n",
        "        \n",
        "    def forward(self, x):\n",
        "        \"\"\"\n",
        "        In the forward function we accept a Variable of input data and we must return\n",
        "        a Variable of output data. We can use Modules defined in the constructor as\n",
        "        well as arbitrary operators on Variables.\n",
        "        \"\"\"\n",
        "        y_pred = self.linear(x)\n",
        "        return y_pred\n",
        "      \n",
        "    def train(self, visualize=None):\n",
        "        \"\"\"\n",
        "        Training\n",
        "        \"\"\"\n",
        "\n",
        "        # To store loss\n",
        "        loss_history = []\n",
        "        \n",
        "        # Itr for 700 times\n",
        "        for epoch in range(1000):\n",
        "           # Forward pass: Compute predicted y by passing x to the model\n",
        "            y_pred = model(x_data)\n",
        "\n",
        "            # Compute loss and append it to history\n",
        "            loss = self.loss_function(y_pred, y_data)\n",
        "            loss_history.append(loss.data)\n",
        "\n",
        "            # Zero gradients, perform a backward pass, and update the weights.\n",
        "            self.optimizer.zero_grad()\n",
        "            loss.backward()\n",
        "            self.optimizer.step()\n",
        "            \n",
        "        # Plot loss history\n",
        "        if visualize==True:\n",
        "          plt.plot(loss_history)\n",
        "          plt.show()\n",
        "      \n",
        "      \n",
        "# main\n",
        "if __name__ == \"__main__\":\n",
        "  \n",
        "    # Instantiate model\n",
        "    model = LinearRegression()\n",
        "\n",
        "    # Train model\n",
        "    model.train(visualize=True)\n",
        "\n",
        "    # Make prediction\n",
        "    test_data = Variable(torch.Tensor([[4.0]]))\n",
        "    prediction = model(test_data)\n",
        "    print(\"prediction : when x={0}, y={1}\".format(4, model( test_data).item()))\n"
      ],
      "execution_count": 10,
      "outputs": [
        {
          "output_type": "stream",
          "text": [
            "/usr/local/lib/python3.6/dist-packages/torch/nn/_reduction.py:46: UserWarning: size_average and reduce args will be deprecated, please use reduction='sum' instead.\n",
            "  warnings.warn(warning.format(ret))\n"
          ],
          "name": "stderr"
        },
        {
          "output_type": "display_data",
          "data": {
            "image/png": "[encoded data removed]",
            "text/plain": [
              "<Figure size 432x288 with 1 Axes>"
            ]
          },
          "metadata": {
            "tags": []
          }
        },
        {
          "output_type": "stream",
          "text": [
            "prediction : when x=4, y=8.000046730041504\n"
          ],
          "name": "stdout"
        }
      ]
    }
  ]
}